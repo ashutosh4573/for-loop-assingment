{
 "cells": [
  {
   "cell_type": "code",
   "execution_count": null,
   "id": "7be54fcf-0d70-42f4-b50a-e0ca6108cb4d",
   "metadata": {},
   "outputs": [],
   "source": [
    "Q1. Write a python program to print all the numbers  from 1 to 10 usimg a for loop"
   ]
  },
  {
   "cell_type": "code",
   "execution_count": 7,
   "id": "d1af0f1e-1e61-416e-980c-ba1767c769dd",
   "metadata": {},
   "outputs": [
    {
     "name": "stdout",
     "output_type": "stream",
     "text": [
      "1\n",
      "2\n",
      "3\n",
      "4\n",
      "5\n",
      "6\n",
      "7\n",
      "8\n",
      "9\n",
      "10\n"
     ]
    }
   ],
   "source": [
    "#programe to print numbers from 1 to 10\n",
    "for i in range (1,11):\n",
    "    print(i)"
   ]
  },
  {
   "cell_type": "code",
   "execution_count": null,
   "id": "56fad35b-380e-49bf-9490-2652ace29686",
   "metadata": {},
   "outputs": [],
   "source": [
    "Q.2 Write a python programe to find the sum of all numbers from 1 to 100 using a for loop"
   ]
  },
  {
   "cell_type": "code",
   "execution_count": 10,
   "id": "fc9a70e9-da03-41fc-9da0-7b0cc507f7b7",
   "metadata": {},
   "outputs": [
    {
     "name": "stdout",
     "output_type": "stream",
     "text": [
      "the sum of numbers from 1 to 100 is : 5050\n"
     ]
    }
   ],
   "source": [
    "#program to find sum of numbers from 1 to 100\n",
    "total = 0\n",
    "for i in range(1,101):\n",
    "    total += i\n",
    "print(\"the sum of numbers from 1 to 100 is :\", total)\n"
   ]
  },
  {
   "cell_type": "code",
   "execution_count": null,
   "id": "f093324b-e4eb-41cb-bfd2-4b876b332307",
   "metadata": {},
   "outputs": [],
   "source": [
    "Q.3 Write a Python program to print the multiplication table of a given number using a for loop."
   ]
  },
  {
   "cell_type": "code",
   "execution_count": 32,
   "id": "fdfbfb48-ef9e-44b1-bd34-1780d58e2e07",
   "metadata": {},
   "outputs": [
    {
     "name": "stdin",
     "output_type": "stream",
     "text": [
      "Enter a number : 4\n"
     ]
    },
    {
     "name": "stdout",
     "output_type": "stream",
     "text": [
      "4 * 1 = 4\n",
      "4 * 2 = 8\n",
      "4 * 3 = 12\n",
      "4 * 4 = 16\n",
      "4 * 5 = 20\n",
      "4 * 6 = 24\n",
      "4 * 7 = 28\n",
      "4 * 8 = 32\n",
      "4 * 9 = 36\n",
      "4 * 10 = 40\n"
     ]
    }
   ],
   "source": [
    "# program to print multiplication table of a given number \n",
    "num = int(input(\"Enter a number :\"))\n",
    "for i in range( 1, 11 ):\n",
    "    print(num , \"*\", i , \"=\", num * i)"
   ]
  },
  {
   "cell_type": "code",
   "execution_count": null,
   "id": "685b23d9-335c-4a3d-98bc-2ea83000047b",
   "metadata": {},
   "outputs": [],
   "source": [
    "Q.4 Write a Python program to count the number of even and odd numbers from a series of numbers using a for loop. \n",
    "Hint : Find even and odd from this list [ 1, 2, 3, 4, 5, 6, 7, 8, 9, 10.]"
   ]
  },
  {
   "cell_type": "code",
   "execution_count": 5,
   "id": "f43f26c9-847d-48ad-bb12-332eebdcbd89",
   "metadata": {},
   "outputs": [
    {
     "name": "stdout",
     "output_type": "stream",
     "text": [
      "number of even numbers : 5\n",
      "number of odd numbers : 5\n"
     ]
    }
   ],
   "source": [
    "# programe to count even and odd numbers from list\n",
    "\n",
    "numbers =  [1,2,3,4,5,6,7,8,9,10]\n",
    "\n",
    "even_count = 0\n",
    "odd_count = 0\n",
    "\n",
    "for num in numbers :\n",
    "    if num % 2 == 0 :\n",
    "        even_count += 1\n",
    "    else :\n",
    "         odd_count += 1\n",
    "\n",
    "print(\"number of even numbers :\",even_count)\n",
    "print(\"number of odd numbers :\",odd_count)"
   ]
  },
  {
   "cell_type": "code",
   "execution_count": null,
   "id": "c4d187f3-6839-41f1-8039-d4ea0ea5f892",
   "metadata": {},
   "outputs": [],
   "source": [
    "Q.5 Write a Python program to find the factorial of a number using a for loop."
   ]
  },
  {
   "cell_type": "code",
   "execution_count": 26,
   "id": "ccc1e5cc-9a4d-4c48-886f-8305c3f651d3",
   "metadata": {},
   "outputs": [
    {
     "name": "stdin",
     "output_type": "stream",
     "text": [
      "enter a number : 22\n"
     ]
    },
    {
     "name": "stdout",
     "output_type": "stream",
     "text": [
      "1\n",
      "1\n",
      "1\n",
      "1\n",
      "1\n",
      "1\n",
      "1\n",
      "1\n",
      "1\n",
      "1\n",
      "1\n",
      "1\n",
      "1\n",
      "1\n",
      "1\n",
      "1\n",
      "1\n",
      "1\n",
      "1\n",
      "1\n",
      "1\n",
      "1\n"
     ]
    }
   ],
   "source": [
    "# program to find factorial of a number using for loop\n",
    "n = int(input(\"enter a number :\"))\n",
    "fact = 1\n",
    "for i in range (1 , n+1):\n",
    "    fact = fact * 1\n",
    "    print(fact)\n"
   ]
  },
  {
   "cell_type": "code",
   "execution_count": null,
   "id": "4de7d70e-d497-4f98-b73c-a715aa39182a",
   "metadata": {},
   "outputs": [],
   "source": [
    "Q.6 Write a Python program to find the Fibonacci sequence up to a specified number using a for loop."
   ]
  },
  {
   "cell_type": "code",
   "execution_count": 24,
   "id": "4dcf271e-5c12-4871-b06a-fef7ceac8ed4",
   "metadata": {},
   "outputs": [
    {
     "name": "stdin",
     "output_type": "stream",
     "text": [
      "Enter terms :  4\n"
     ]
    },
    {
     "name": "stdout",
     "output_type": "stream",
     "text": [
      "0\n",
      "1\n",
      "1\n",
      "2\n"
     ]
    }
   ],
   "source": [
    "# programe to generate fibonacci sequence upto a specified number\n",
    "\n",
    "n = int(input(\"Enter terms : \"))\n",
    "a = 0\n",
    "b = 1\n",
    "for i in range (n):\n",
    "    print(a)\n",
    "    c = a + b\n",
    "    a = b\n",
    "    b = c"
   ]
  },
  {
   "cell_type": "code",
   "execution_count": null,
   "id": "469de97e-ad36-4337-8251-5250f056ca2c",
   "metadata": {},
   "outputs": [],
   "source": [
    "Q.7 Write a Python program to check if a number is prime or not using a for loop."
   ]
  },
  {
   "cell_type": "code",
   "execution_count": 18,
   "id": "cd8505c0-737d-4148-bee6-48a95ab4a50a",
   "metadata": {},
   "outputs": [
    {
     "name": "stdin",
     "output_type": "stream",
     "text": [
      "Enter the number : 7\n"
     ]
    },
    {
     "name": "stdout",
     "output_type": "stream",
     "text": [
      "Prime\n"
     ]
    }
   ],
   "source": [
    "# programe to check if a number is prime using a for loop\n",
    "n = int(input(\"Enter the number :\"))\n",
    "prime = True\n",
    "\n",
    "for i in range (2,n):\n",
    "    if n % i == 0:\n",
    "        prime = False\n",
    "        break\n",
    "\n",
    "if prime and n > 1 :\n",
    "    print(\"Prime\")\n",
    "else:\n",
    "    print(\"not prime\")\n",
    "        \n"
   ]
  },
  {
   "cell_type": "code",
   "execution_count": null,
   "id": "23759af6-1f07-4760-a3e2-39f0bdda9753",
   "metadata": {},
   "outputs": [],
   "source": [
    "Q 8. Write a Python program to find the largest element in a list using a for loop."
   ]
  },
  {
   "cell_type": "code",
   "execution_count": 6,
   "id": "966ac3ab-4524-4c05-b3c0-b6a49b71fcf9",
   "metadata": {},
   "outputs": [
    {
     "name": "stdout",
     "output_type": "stream",
     "text": [
      "The largest element in the list : 89\n"
     ]
    }
   ],
   "source": [
    "# programe to find the largest element ina list using for loop\n",
    "numbers = [12,45,78,34,89,56]\n",
    "\n",
    "largest = numbers [0]\n",
    "for num in numbers :\n",
    "    if num > largest :\n",
    "        largest = num\n",
    "\n",
    "print(\"The largest element in the list :\",largest)\n",
    "\n",
    "\n"
   ]
  },
  {
   "cell_type": "code",
   "execution_count": null,
   "id": "bffc6dde-d176-41f9-8ea5-352f092226eb",
   "metadata": {},
   "outputs": [],
   "source": [
    "Q.9 Write a Python program to reverse a given string using a for loop."
   ]
  },
  {
   "cell_type": "code",
   "execution_count": 9,
   "id": "cd72d95e-2f86-4b46-8add-a7828328d0f8",
   "metadata": {},
   "outputs": [
    {
     "name": "stdin",
     "output_type": "stream",
     "text": [
      "Enter a string : python\n"
     ]
    },
    {
     "name": "stdout",
     "output_type": "stream",
     "text": [
      "Reversed string : nohtyp\n"
     ]
    }
   ],
   "source": [
    "# programe to reverse a string using for loop\n",
    "\n",
    "text = input(\"Enter a string :\")\n",
    "\n",
    "reversed_string = \"\"\n",
    "\n",
    "for char in text :\n",
    "    reversed_string = char + reversed_string\n",
    "\n",
    "print(\"Reversed string :\",reversed_string)\n"
   ]
  },
  {
   "cell_type": "code",
   "execution_count": null,
   "id": "c369351e-e299-4ec0-a468-cd0cfd75af2a",
   "metadata": {},
   "outputs": [],
   "source": [
    "Q.10 Write a Python program to find the common element between two lists using a for loop. \n",
    "List 1 = [1, 2, 3. ] List 2 = [4, 5, 1.] #common Element is 1"
   ]
  },
  {
   "cell_type": "code",
   "execution_count": 12,
   "id": "0fe89a2a-a3dc-4c6b-83e4-cb7dec9143c6",
   "metadata": {},
   "outputs": [
    {
     "name": "stdout",
     "output_type": "stream",
     "text": [
      "common element : [1]\n"
     ]
    }
   ],
   "source": [
    "list1 = [1,2,3]\n",
    "list2 = [4,5,1]\n",
    "\n",
    "common_element = []\n",
    "\n",
    "for item in list1 :\n",
    "    if item in list2:\n",
    "        common_element.append(item)\n",
    "\n",
    "print(\"common element :\",common_element)"
   ]
  }
 ],
 "metadata": {
  "kernelspec": {
   "display_name": "Python 3 (ipykernel)",
   "language": "python",
   "name": "python3"
  },
  "language_info": {
   "codemirror_mode": {
    "name": "ipython",
    "version": 3
   },
   "file_extension": ".py",
   "mimetype": "text/x-python",
   "name": "python",
   "nbconvert_exporter": "python",
   "pygments_lexer": "ipython3",
   "version": "3.13.5"
  }
 },
 "nbformat": 4,
 "nbformat_minor": 5
}
